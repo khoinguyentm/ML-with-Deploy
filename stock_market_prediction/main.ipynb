{
 "cells": [
  {
   "cell_type": "code",
   "execution_count": 30,
   "metadata": {},
   "outputs": [],
   "source": [
    "import pandas as pd\n",
    "import numpy as np\n",
    "import matplotlib.pyplot as plt\n",
    "import yfinance as yf"
   ]
  },
  {
   "cell_type": "code",
   "execution_count": 31,
   "metadata": {},
   "outputs": [
    {
     "name": "stderr",
     "output_type": "stream",
     "text": [
      "[*********************100%***********************]  1 of 1 completed\n"
     ]
    }
   ],
   "source": [
    "start = '2014-01-01'\n",
    "end = '2024-12-21'\n",
    "stock = 'GOOG'\n",
    "\n",
    "data = yf.download(stock, start, end)"
   ]
  },
  {
   "cell_type": "code",
   "execution_count": 32,
   "metadata": {},
   "outputs": [
    {
     "data": {
      "application/vnd.microsoft.datawrangler.viewer.v0+json": {
       "columns": [
        {
         "name": "Date",
         "rawType": "datetime64[ns]",
         "type": "datetime"
        },
        {
         "name": "('Close', 'GOOG')",
         "rawType": "float64",
         "type": "float"
        },
        {
         "name": "('High', 'GOOG')",
         "rawType": "float64",
         "type": "float"
        },
        {
         "name": "('Low', 'GOOG')",
         "rawType": "float64",
         "type": "float"
        },
        {
         "name": "('Open', 'GOOG')",
         "rawType": "float64",
         "type": "float"
        },
        {
         "name": "('Volume', 'GOOG')",
         "rawType": "int64",
         "type": "integer"
        }
       ],
       "conversionMethod": "pd.DataFrame",
       "ref": "63b4f998-a617-43c3-855b-7b652b160009",
       "rows": [
        [
         "2014-01-02 00:00:00",
         "27.593387603759766",
         "27.70816227493666",
         "27.472912166166328",
         "27.65139570212484",
         "73129082"
        ],
        [
         "2014-01-03 00:00:00",
         "27.392099380493164",
         "27.687834946651254",
         "27.390364282072465",
         "27.639992550154055",
         "66917888"
        ],
        [
         "2014-01-06 00:00:00",
         "27.6975040435791",
         "27.73567810824464",
         "27.427796844648675",
         "27.590662602759505",
         "71037271"
        ],
        [
         "2014-01-07 00:00:00",
         "28.231462478637695",
         "28.252038772121956",
         "27.792695183405893",
         "27.887884507530014",
         "102486711"
        ],
        [
         "2014-01-08 00:00:00",
         "28.29021453857422",
         "28.4411813923405",
         "28.09338717234914",
         "28.408459409839786",
         "90036218"
        ],
        [
         "2014-01-09 00:00:00",
         "28.017778396606445",
         "28.364332976918195",
         "27.90176599753761",
         "28.34499820985909",
         "83692529"
        ],
        [
         "2014-01-10 00:00:00",
         "28.016292572021484",
         "28.236917740414746",
         "27.819713893514017",
         "28.236917740414746",
         "86061375"
        ],
        [
         "2014-01-13 00:00:00",
         "27.837812423706055",
         "28.431018687864086",
         "27.69378595817372",
         "27.9243262582591",
         "97118665"
        ],
        [
         "2014-01-14 00:00:00",
         "28.492740631103516",
         "28.532404905569184",
         "27.96448288630427",
         "28.20890586222209",
         "99676216"
        ],
        [
         "2014-01-15 00:00:00",
         "28.473405838012695",
         "28.631561769444296",
         "28.35367455378806",
         "28.581735589154718",
         "78300393"
        ],
        [
         "2014-01-16 00:00:00",
         "28.66180419921875",
         "28.704194514085014",
         "28.45803644250447",
         "28.48530444441844",
         "67608467"
        ],
        [
         "2014-01-17 00:00:00",
         "28.520755767822266",
         "28.77112630619905",
         "28.363839457531057",
         "28.677423393316317",
         "108457005"
        ],
        [
         "2014-01-21 00:00:00",
         "28.84722900390625",
         "28.85466486903639",
         "28.539841311930868",
         "28.77856162747342",
         "79492846"
        ],
        [
         "2014-01-22 00:00:00",
         "28.87994956970215",
         "28.951094298782436",
         "28.727247622841695",
         "28.919363259836498",
         "63091600"
        ],
        [
         "2014-01-23 00:00:00",
         "28.75798797607422",
         "28.817233807284147",
         "28.61594529369248",
         "28.75550872151431",
         "78256228"
        ],
        [
         "2014-01-24 00:00:00",
         "27.8588809967041",
         "28.595616322576525",
         "27.83830660187968",
         "28.532651612525182",
         "156283602"
        ],
        [
         "2014-01-27 00:00:00",
         "27.298643112182617",
         "27.92506869104776",
         "26.82864026198201",
         "27.91515357178885",
         "174796734"
        ],
        [
         "2014-01-28 00:00:00",
         "27.838552474975586",
         "27.90647569168218",
         "27.514557971942317",
         "27.523977619826557",
         "88739375"
        ],
        [
         "2014-01-29 00:00:00",
         "27.439695358276367",
         "27.807319815677573",
         "27.253775953128518",
         "27.74212453574259",
         "95552818"
        ],
        [
         "2014-01-30 00:00:00",
         "28.145442962646484",
         "28.569340408678386",
         "27.943658992738627",
         "28.383667795503815",
         "204419353"
        ],
        [
         "2014-01-31 00:00:00",
         "29.27533721923828",
         "29.413412323364906",
         "28.535627194713673",
         "29.03686370402544",
         "223486554"
        ],
        [
         "2014-02-03 00:00:00",
         "28.09685707092285",
         "29.29392881613143",
         "28.06165773269195",
         "29.23145957747517",
         "183449044"
        ],
        [
         "2014-02-04 00:00:00",
         "28.214109420776367",
         "28.631560032548258",
         "28.185601793084913",
         "28.20989506814435",
         "112897588"
        ],
        [
         "2014-02-05 00:00:00",
         "28.339046478271484",
         "28.5267009733909",
         "27.962746545640048",
         "28.343509515752398",
         "96139007"
        ],
        [
         "2014-02-06 00:00:00",
         "28.7545166015625",
         "28.759475110479272",
         "28.446882127791728",
         "28.53562842693034",
         "78155853"
        ],
        [
         "2014-02-07 00:00:00",
         "29.187829971313477",
         "29.199233402088808",
         "28.769388416162702",
         "28.9446466370066",
         "105843245"
        ],
        [
         "2014-02-10 00:00:00",
         "29.076032638549805",
         "29.3107853749509",
         "28.97910632212695",
         "29.04801858293752",
         "78099643"
        ],
        [
         "2014-02-11 00:00:00",
         "29.503644943237305",
         "29.5455397855913",
         "29.05818406474628",
         "29.255504994502996",
         "82339476"
        ],
        [
         "2014-02-12 00:00:00",
         "29.417131423950195",
         "29.499184112790445",
         "29.28550124114257",
         "29.47439346744966",
         "69238554"
        ],
        [
         "2014-02-13 00:00:00",
         "29.744598388671875",
         "29.744598388671875",
         "29.2428626015482",
         "29.26988381681085",
         "73731331"
        ],
        [
         "2014-02-14 00:00:00",
         "29.816486358642578",
         "29.85590194884812",
         "29.568595080878264",
         "29.638251501020445",
         "87795852"
        ],
        [
         "2014-02-18 00:00:00",
         "30.016782760620117",
         "30.066113468485177",
         "29.747077470905932",
         "29.782030022018514",
         "84672187"
        ],
        [
         "2014-02-19 00:00:00",
         "29.805086135864258",
         "29.975636451105437",
         "29.685106159863622",
         "29.878461440955498",
         "84459392"
        ],
        [
         "2014-02-20 00:00:00",
         "29.848960876464844",
         "29.91787503738165",
         "29.752530028795547",
         "29.824914386565304",
         "68287001"
        ],
        [
         "2014-02-21 00:00:00",
         "29.841028213500977",
         "29.991746383205633",
         "29.81747909272124",
         "29.94068057514639",
         "74771214"
        ],
        [
         "2014-02-24 00:00:00",
         "30.05718994140625",
         "30.24682822738359",
         "29.873501106740804",
         "29.879947927626315",
         "67223027"
        ],
        [
         "2014-02-25 00:00:00",
         "30.242860794067383",
         "30.354412057477877",
         "30.005380110119837",
         "30.142217490895764",
         "57763704"
        ],
        [
         "2014-02-26 00:00:00",
         "30.2470760345459",
         "30.462989475588376",
         "30.08817595217148",
         "30.342016669637527",
         "79585191"
        ],
        [
         "2014-02-27 00:00:00",
         "30.223276138305664",
         "30.34771914023223",
         "30.168740135996902",
         "30.202950429007423",
         "50588912"
        ],
        [
         "2014-02-28 00:00:00",
         "30.135028839111328",
         "30.34672793747292",
         "29.90126703352879",
         "30.25128992828122",
         "92890878"
        ],
        [
         "2014-03-03 00:00:00",
         "29.81376075744629",
         "29.941425279934254",
         "29.552233576174096",
         "29.914404063382676",
         "84507572"
        ],
        [
         "2014-03-04 00:00:00",
         "30.11668586730957",
         "30.143707084267476",
         "29.982576420071172",
         "30.11891643706688",
         "58928052"
        ],
        [
         "2014-03-05 00:00:00",
         "30.19972801208496",
         "30.31921250923854",
         "30.02992186369376",
         "30.12015457557797",
         "49597208"
        ],
        [
         "2014-03-06 00:00:00",
         "30.23319435119629",
         "30.395315950936446",
         "30.20815691862556",
         "30.299380573546618",
         "50914126"
        ],
        [
         "2014-03-07 00:00:00",
         "30.11370849609375",
         "30.41613765982962",
         "30.030664865913625",
         "30.411427835930276",
         "60831159"
        ],
        [
         "2014-03-10 00:00:00",
         "30.03388786315918",
         "30.184359245674234",
         "29.84846582683553",
         "30.13601947876412",
         "48766105"
        ],
        [
         "2014-03-11 00:00:00",
         "29.746829986572266",
         "30.102060075149627",
         "29.663784453079117",
         "30.08842417547694",
         "68776830"
        ],
        [
         "2014-03-12 00:00:00",
         "29.928037643432617",
         "29.94167164387036",
         "29.355159041914852",
         "29.657834990647004",
         "78866507"
        ],
        [
         "2014-03-13 00:00:00",
         "29.47588348388672",
         "30.007364652947334",
         "29.369288828321558",
         "29.94415125629074",
         "94175675"
        ],
        [
         "2014-03-14 00:00:00",
         "29.072811126708984",
         "29.52075319055015",
         "29.06611751916414",
         "29.300623484456846",
         "92099924"
        ]
       ],
       "shape": {
        "columns": 5,
        "rows": 2762
       }
      },
      "text/html": [
       "<div>\n",
       "<style scoped>\n",
       "    .dataframe tbody tr th:only-of-type {\n",
       "        vertical-align: middle;\n",
       "    }\n",
       "\n",
       "    .dataframe tbody tr th {\n",
       "        vertical-align: top;\n",
       "    }\n",
       "\n",
       "    .dataframe thead tr th {\n",
       "        text-align: left;\n",
       "    }\n",
       "\n",
       "    .dataframe thead tr:last-of-type th {\n",
       "        text-align: right;\n",
       "    }\n",
       "</style>\n",
       "<table border=\"1\" class=\"dataframe\">\n",
       "  <thead>\n",
       "    <tr>\n",
       "      <th>Price</th>\n",
       "      <th>Close</th>\n",
       "      <th>High</th>\n",
       "      <th>Low</th>\n",
       "      <th>Open</th>\n",
       "      <th>Volume</th>\n",
       "    </tr>\n",
       "    <tr>\n",
       "      <th>Ticker</th>\n",
       "      <th>GOOG</th>\n",
       "      <th>GOOG</th>\n",
       "      <th>GOOG</th>\n",
       "      <th>GOOG</th>\n",
       "      <th>GOOG</th>\n",
       "    </tr>\n",
       "    <tr>\n",
       "      <th>Date</th>\n",
       "      <th></th>\n",
       "      <th></th>\n",
       "      <th></th>\n",
       "      <th></th>\n",
       "      <th></th>\n",
       "    </tr>\n",
       "  </thead>\n",
       "  <tbody>\n",
       "    <tr>\n",
       "      <th>2014-01-02</th>\n",
       "      <td>27.593388</td>\n",
       "      <td>27.708162</td>\n",
       "      <td>27.472912</td>\n",
       "      <td>27.651396</td>\n",
       "      <td>73129082</td>\n",
       "    </tr>\n",
       "    <tr>\n",
       "      <th>2014-01-03</th>\n",
       "      <td>27.392099</td>\n",
       "      <td>27.687835</td>\n",
       "      <td>27.390364</td>\n",
       "      <td>27.639993</td>\n",
       "      <td>66917888</td>\n",
       "    </tr>\n",
       "    <tr>\n",
       "      <th>2014-01-06</th>\n",
       "      <td>27.697504</td>\n",
       "      <td>27.735678</td>\n",
       "      <td>27.427797</td>\n",
       "      <td>27.590663</td>\n",
       "      <td>71037271</td>\n",
       "    </tr>\n",
       "    <tr>\n",
       "      <th>2014-01-07</th>\n",
       "      <td>28.231462</td>\n",
       "      <td>28.252039</td>\n",
       "      <td>27.792695</td>\n",
       "      <td>27.887885</td>\n",
       "      <td>102486711</td>\n",
       "    </tr>\n",
       "    <tr>\n",
       "      <th>2014-01-08</th>\n",
       "      <td>28.290215</td>\n",
       "      <td>28.441181</td>\n",
       "      <td>28.093387</td>\n",
       "      <td>28.408459</td>\n",
       "      <td>90036218</td>\n",
       "    </tr>\n",
       "    <tr>\n",
       "      <th>...</th>\n",
       "      <td>...</td>\n",
       "      <td>...</td>\n",
       "      <td>...</td>\n",
       "      <td>...</td>\n",
       "      <td>...</td>\n",
       "    </tr>\n",
       "    <tr>\n",
       "      <th>2024-12-16</th>\n",
       "      <td>197.934509</td>\n",
       "      <td>200.411683</td>\n",
       "      <td>193.889115</td>\n",
       "      <td>194.143830</td>\n",
       "      <td>32248600</td>\n",
       "    </tr>\n",
       "    <tr>\n",
       "      <th>2024-12-17</th>\n",
       "      <td>196.895676</td>\n",
       "      <td>202.649131</td>\n",
       "      <td>196.466172</td>\n",
       "      <td>198.304075</td>\n",
       "      <td>24129500</td>\n",
       "    </tr>\n",
       "    <tr>\n",
       "      <th>2024-12-18</th>\n",
       "      <td>189.933609</td>\n",
       "      <td>198.463899</td>\n",
       "      <td>189.064604</td>\n",
       "      <td>196.606015</td>\n",
       "      <td>27638400</td>\n",
       "    </tr>\n",
       "    <tr>\n",
       "      <th>2024-12-19</th>\n",
       "      <td>189.484131</td>\n",
       "      <td>194.378564</td>\n",
       "      <td>189.304343</td>\n",
       "      <td>193.060059</td>\n",
       "      <td>26981200</td>\n",
       "    </tr>\n",
       "    <tr>\n",
       "      <th>2024-12-20</th>\n",
       "      <td>192.740417</td>\n",
       "      <td>193.914068</td>\n",
       "      <td>186.157905</td>\n",
       "      <td>186.797176</td>\n",
       "      <td>45319700</td>\n",
       "    </tr>\n",
       "  </tbody>\n",
       "</table>\n",
       "<p>2762 rows × 5 columns</p>\n",
       "</div>"
      ],
      "text/plain": [
       "Price            Close        High         Low        Open     Volume\n",
       "Ticker            GOOG        GOOG        GOOG        GOOG       GOOG\n",
       "Date                                                                 \n",
       "2014-01-02   27.593388   27.708162   27.472912   27.651396   73129082\n",
       "2014-01-03   27.392099   27.687835   27.390364   27.639993   66917888\n",
       "2014-01-06   27.697504   27.735678   27.427797   27.590663   71037271\n",
       "2014-01-07   28.231462   28.252039   27.792695   27.887885  102486711\n",
       "2014-01-08   28.290215   28.441181   28.093387   28.408459   90036218\n",
       "...                ...         ...         ...         ...        ...\n",
       "2024-12-16  197.934509  200.411683  193.889115  194.143830   32248600\n",
       "2024-12-17  196.895676  202.649131  196.466172  198.304075   24129500\n",
       "2024-12-18  189.933609  198.463899  189.064604  196.606015   27638400\n",
       "2024-12-19  189.484131  194.378564  189.304343  193.060059   26981200\n",
       "2024-12-20  192.740417  193.914068  186.157905  186.797176   45319700\n",
       "\n",
       "[2762 rows x 5 columns]"
      ]
     },
     "execution_count": 32,
     "metadata": {},
     "output_type": "execute_result"
    }
   ],
   "source": [
    "data"
   ]
  },
  {
   "cell_type": "code",
   "execution_count": 33,
   "metadata": {},
   "outputs": [],
   "source": [
    "ma_100_days = data.Close.rolling(window=100).mean()"
   ]
  },
  {
   "cell_type": "code",
   "execution_count": 34,
   "metadata": {},
   "outputs": [
    {
     "data": {
      "image/png": "[encoded data removed]",
      "text/plain": [
       "<Figure size 800x600 with 1 Axes>"
      ]
     },
     "metadata": {},
     "output_type": "display_data"
    }
   ],
   "source": [
    "plt.figure(figsize=(8, 6))\n",
    "plt.plot(ma_100_days, 'r')\n",
    "plt.plot(data.Close, 'g')\n",
    "plt.show()"
   ]
  },
  {
   "cell_type": "code",
   "execution_count": 35,
   "metadata": {},
   "outputs": [],
   "source": [
    "ma_200_days = data.Close.rolling(window=200).mean()"
   ]
  },
  {
   "cell_type": "code",
   "execution_count": 36,
   "metadata": {},
   "outputs": [
    {
     "data": {
      "image/png": "[encoded data removed]",
      "text/plain": [
       "<Figure size 800x600 with 1 Axes>"
      ]
     },
     "metadata": {},
     "output_type": "display_data"
    }
   ],
   "source": [
    "plt.figure(figsize=(8, 6))\n",
    "plt.plot(ma_100_days, 'r')\n",
    "plt.plot(ma_200_days, 'b')\n",
    "plt.plot(data.Close, 'g')\n",
    "plt.show()"
   ]
  },
  {
   "cell_type": "code",
   "execution_count": 37,
   "metadata": {},
   "outputs": [
    {
     "data": {
      "application/vnd.microsoft.datawrangler.viewer.v0+json": {
       "columns": [
        {
         "name": "Date",
         "rawType": "datetime64[ns]",
         "type": "datetime"
        },
        {
         "name": "('Close', 'GOOG')",
         "rawType": "float64",
         "type": "float"
        },
        {
         "name": "('High', 'GOOG')",
         "rawType": "float64",
         "type": "float"
        },
        {
         "name": "('Low', 'GOOG')",
         "rawType": "float64",
         "type": "float"
        },
        {
         "name": "('Open', 'GOOG')",
         "rawType": "float64",
         "type": "float"
        },
        {
         "name": "('Volume', 'GOOG')",
         "rawType": "int64",
         "type": "integer"
        }
       ],
       "conversionMethod": "pd.DataFrame",
       "ref": "cdb3d624-c49e-49d0-a056-9ba0df035796",
       "rows": [
        [
         "2014-01-02 00:00:00",
         "27.593387603759766",
         "27.70816227493666",
         "27.472912166166328",
         "27.65139570212484",
         "73129082"
        ],
        [
         "2014-01-03 00:00:00",
         "27.392099380493164",
         "27.687834946651254",
         "27.390364282072465",
         "27.639992550154055",
         "66917888"
        ],
        [
         "2014-01-06 00:00:00",
         "27.6975040435791",
         "27.73567810824464",
         "27.427796844648675",
         "27.590662602759505",
         "71037271"
        ],
        [
         "2014-01-07 00:00:00",
         "28.231462478637695",
         "28.252038772121956",
         "27.792695183405893",
         "27.887884507530014",
         "102486711"
        ],
        [
         "2014-01-08 00:00:00",
         "28.29021453857422",
         "28.4411813923405",
         "28.09338717234914",
         "28.408459409839786",
         "90036218"
        ],
        [
         "2014-01-09 00:00:00",
         "28.017778396606445",
         "28.364332976918195",
         "27.90176599753761",
         "28.34499820985909",
         "83692529"
        ],
        [
         "2014-01-10 00:00:00",
         "28.016292572021484",
         "28.236917740414746",
         "27.819713893514017",
         "28.236917740414746",
         "86061375"
        ],
        [
         "2014-01-13 00:00:00",
         "27.837812423706055",
         "28.431018687864086",
         "27.69378595817372",
         "27.9243262582591",
         "97118665"
        ],
        [
         "2014-01-14 00:00:00",
         "28.492740631103516",
         "28.532404905569184",
         "27.96448288630427",
         "28.20890586222209",
         "99676216"
        ],
        [
         "2014-01-15 00:00:00",
         "28.473405838012695",
         "28.631561769444296",
         "28.35367455378806",
         "28.581735589154718",
         "78300393"
        ],
        [
         "2014-01-16 00:00:00",
         "28.66180419921875",
         "28.704194514085014",
         "28.45803644250447",
         "28.48530444441844",
         "67608467"
        ],
        [
         "2014-01-17 00:00:00",
         "28.520755767822266",
         "28.77112630619905",
         "28.363839457531057",
         "28.677423393316317",
         "108457005"
        ],
        [
         "2014-01-21 00:00:00",
         "28.84722900390625",
         "28.85466486903639",
         "28.539841311930868",
         "28.77856162747342",
         "79492846"
        ],
        [
         "2014-01-22 00:00:00",
         "28.87994956970215",
         "28.951094298782436",
         "28.727247622841695",
         "28.919363259836498",
         "63091600"
        ],
        [
         "2014-01-23 00:00:00",
         "28.75798797607422",
         "28.817233807284147",
         "28.61594529369248",
         "28.75550872151431",
         "78256228"
        ],
        [
         "2014-01-24 00:00:00",
         "27.8588809967041",
         "28.595616322576525",
         "27.83830660187968",
         "28.532651612525182",
         "156283602"
        ],
        [
         "2014-01-27 00:00:00",
         "27.298643112182617",
         "27.92506869104776",
         "26.82864026198201",
         "27.91515357178885",
         "174796734"
        ],
        [
         "2014-01-28 00:00:00",
         "27.838552474975586",
         "27.90647569168218",
         "27.514557971942317",
         "27.523977619826557",
         "88739375"
        ],
        [
         "2014-01-29 00:00:00",
         "27.439695358276367",
         "27.807319815677573",
         "27.253775953128518",
         "27.74212453574259",
         "95552818"
        ],
        [
         "2014-01-30 00:00:00",
         "28.145442962646484",
         "28.569340408678386",
         "27.943658992738627",
         "28.383667795503815",
         "204419353"
        ],
        [
         "2014-01-31 00:00:00",
         "29.27533721923828",
         "29.413412323364906",
         "28.535627194713673",
         "29.03686370402544",
         "223486554"
        ],
        [
         "2014-02-03 00:00:00",
         "28.09685707092285",
         "29.29392881613143",
         "28.06165773269195",
         "29.23145957747517",
         "183449044"
        ],
        [
         "2014-02-04 00:00:00",
         "28.214109420776367",
         "28.631560032548258",
         "28.185601793084913",
         "28.20989506814435",
         "112897588"
        ],
        [
         "2014-02-05 00:00:00",
         "28.339046478271484",
         "28.5267009733909",
         "27.962746545640048",
         "28.343509515752398",
         "96139007"
        ],
        [
         "2014-02-06 00:00:00",
         "28.7545166015625",
         "28.759475110479272",
         "28.446882127791728",
         "28.53562842693034",
         "78155853"
        ],
        [
         "2014-02-07 00:00:00",
         "29.187829971313477",
         "29.199233402088808",
         "28.769388416162702",
         "28.9446466370066",
         "105843245"
        ],
        [
         "2014-02-10 00:00:00",
         "29.076032638549805",
         "29.3107853749509",
         "28.97910632212695",
         "29.04801858293752",
         "78099643"
        ],
        [
         "2014-02-11 00:00:00",
         "29.503644943237305",
         "29.5455397855913",
         "29.05818406474628",
         "29.255504994502996",
         "82339476"
        ],
        [
         "2014-02-12 00:00:00",
         "29.417131423950195",
         "29.499184112790445",
         "29.28550124114257",
         "29.47439346744966",
         "69238554"
        ],
        [
         "2014-02-13 00:00:00",
         "29.744598388671875",
         "29.744598388671875",
         "29.2428626015482",
         "29.26988381681085",
         "73731331"
        ],
        [
         "2014-02-14 00:00:00",
         "29.816486358642578",
         "29.85590194884812",
         "29.568595080878264",
         "29.638251501020445",
         "87795852"
        ],
        [
         "2014-02-18 00:00:00",
         "30.016782760620117",
         "30.066113468485177",
         "29.747077470905932",
         "29.782030022018514",
         "84672187"
        ],
        [
         "2014-02-19 00:00:00",
         "29.805086135864258",
         "29.975636451105437",
         "29.685106159863622",
         "29.878461440955498",
         "84459392"
        ],
        [
         "2014-02-20 00:00:00",
         "29.848960876464844",
         "29.91787503738165",
         "29.752530028795547",
         "29.824914386565304",
         "68287001"
        ],
        [
         "2014-02-21 00:00:00",
         "29.841028213500977",
         "29.991746383205633",
         "29.81747909272124",
         "29.94068057514639",
         "74771214"
        ],
        [
         "2014-02-24 00:00:00",
         "30.05718994140625",
         "30.24682822738359",
         "29.873501106740804",
         "29.879947927626315",
         "67223027"
        ],
        [
         "2014-02-25 00:00:00",
         "30.242860794067383",
         "30.354412057477877",
         "30.005380110119837",
         "30.142217490895764",
         "57763704"
        ],
        [
         "2014-02-26 00:00:00",
         "30.2470760345459",
         "30.462989475588376",
         "30.08817595217148",
         "30.342016669637527",
         "79585191"
        ],
        [
         "2014-02-27 00:00:00",
         "30.223276138305664",
         "30.34771914023223",
         "30.168740135996902",
         "30.202950429007423",
         "50588912"
        ],
        [
         "2014-02-28 00:00:00",
         "30.135028839111328",
         "30.34672793747292",
         "29.90126703352879",
         "30.25128992828122",
         "92890878"
        ],
        [
         "2014-03-03 00:00:00",
         "29.81376075744629",
         "29.941425279934254",
         "29.552233576174096",
         "29.914404063382676",
         "84507572"
        ],
        [
         "2014-03-04 00:00:00",
         "30.11668586730957",
         "30.143707084267476",
         "29.982576420071172",
         "30.11891643706688",
         "58928052"
        ],
        [
         "2014-03-05 00:00:00",
         "30.19972801208496",
         "30.31921250923854",
         "30.02992186369376",
         "30.12015457557797",
         "49597208"
        ],
        [
         "2014-03-06 00:00:00",
         "30.23319435119629",
         "30.395315950936446",
         "30.20815691862556",
         "30.299380573546618",
         "50914126"
        ],
        [
         "2014-03-07 00:00:00",
         "30.11370849609375",
         "30.41613765982962",
         "30.030664865913625",
         "30.411427835930276",
         "60831159"
        ],
        [
         "2014-03-10 00:00:00",
         "30.03388786315918",
         "30.184359245674234",
         "29.84846582683553",
         "30.13601947876412",
         "48766105"
        ],
        [
         "2014-03-11 00:00:00",
         "29.746829986572266",
         "30.102060075149627",
         "29.663784453079117",
         "30.08842417547694",
         "68776830"
        ],
        [
         "2014-03-12 00:00:00",
         "29.928037643432617",
         "29.94167164387036",
         "29.355159041914852",
         "29.657834990647004",
         "78866507"
        ],
        [
         "2014-03-13 00:00:00",
         "29.47588348388672",
         "30.007364652947334",
         "29.369288828321558",
         "29.94415125629074",
         "94175675"
        ],
        [
         "2014-03-14 00:00:00",
         "29.072811126708984",
         "29.52075319055015",
         "29.06611751916414",
         "29.300623484456846",
         "92099924"
        ]
       ],
       "shape": {
        "columns": 5,
        "rows": 2762
       }
      },
      "text/html": [
       "<div>\n",
       "<style scoped>\n",
       "    .dataframe tbody tr th:only-of-type {\n",
       "        vertical-align: middle;\n",
       "    }\n",
       "\n",
       "    .dataframe tbody tr th {\n",
       "        vertical-align: top;\n",
       "    }\n",
       "\n",
       "    .dataframe thead tr th {\n",
       "        text-align: left;\n",
       "    }\n",
       "\n",
       "    .dataframe thead tr:last-of-type th {\n",
       "        text-align: right;\n",
       "    }\n",
       "</style>\n",
       "<table border=\"1\" class=\"dataframe\">\n",
       "  <thead>\n",
       "    <tr>\n",
       "      <th>Price</th>\n",
       "      <th>Close</th>\n",
       "      <th>High</th>\n",
       "      <th>Low</th>\n",
       "      <th>Open</th>\n",
       "      <th>Volume</th>\n",
       "    </tr>\n",
       "    <tr>\n",
       "      <th>Ticker</th>\n",
       "      <th>GOOG</th>\n",
       "      <th>GOOG</th>\n",
       "      <th>GOOG</th>\n",
       "      <th>GOOG</th>\n",
       "      <th>GOOG</th>\n",
       "    </tr>\n",
       "    <tr>\n",
       "      <th>Date</th>\n",
       "      <th></th>\n",
       "      <th></th>\n",
       "      <th></th>\n",
       "      <th></th>\n",
       "      <th></th>\n",
       "    </tr>\n",
       "  </thead>\n",
       "  <tbody>\n",
       "    <tr>\n",
       "      <th>2014-01-02</th>\n",
       "      <td>27.593388</td>\n",
       "      <td>27.708162</td>\n",
       "      <td>27.472912</td>\n",
       "      <td>27.651396</td>\n",
       "      <td>73129082</td>\n",
       "    </tr>\n",
       "    <tr>\n",
       "      <th>2014-01-03</th>\n",
       "      <td>27.392099</td>\n",
       "      <td>27.687835</td>\n",
       "      <td>27.390364</td>\n",
       "      <td>27.639993</td>\n",
       "      <td>66917888</td>\n",
       "    </tr>\n",
       "    <tr>\n",
       "      <th>2014-01-06</th>\n",
       "      <td>27.697504</td>\n",
       "      <td>27.735678</td>\n",
       "      <td>27.427797</td>\n",
       "      <td>27.590663</td>\n",
       "      <td>71037271</td>\n",
       "    </tr>\n",
       "    <tr>\n",
       "      <th>2014-01-07</th>\n",
       "      <td>28.231462</td>\n",
       "      <td>28.252039</td>\n",
       "      <td>27.792695</td>\n",
       "      <td>27.887885</td>\n",
       "      <td>102486711</td>\n",
       "    </tr>\n",
       "    <tr>\n",
       "      <th>2014-01-08</th>\n",
       "      <td>28.290215</td>\n",
       "      <td>28.441181</td>\n",
       "      <td>28.093387</td>\n",
       "      <td>28.408459</td>\n",
       "      <td>90036218</td>\n",
       "    </tr>\n",
       "    <tr>\n",
       "      <th>...</th>\n",
       "      <td>...</td>\n",
       "      <td>...</td>\n",
       "      <td>...</td>\n",
       "      <td>...</td>\n",
       "      <td>...</td>\n",
       "    </tr>\n",
       "    <tr>\n",
       "      <th>2024-12-16</th>\n",
       "      <td>197.934509</td>\n",
       "      <td>200.411683</td>\n",
       "      <td>193.889115</td>\n",
       "      <td>194.143830</td>\n",
       "      <td>32248600</td>\n",
       "    </tr>\n",
       "    <tr>\n",
       "      <th>2024-12-17</th>\n",
       "      <td>196.895676</td>\n",
       "      <td>202.649131</td>\n",
       "      <td>196.466172</td>\n",
       "      <td>198.304075</td>\n",
       "      <td>24129500</td>\n",
       "    </tr>\n",
       "    <tr>\n",
       "      <th>2024-12-18</th>\n",
       "      <td>189.933609</td>\n",
       "      <td>198.463899</td>\n",
       "      <td>189.064604</td>\n",
       "      <td>196.606015</td>\n",
       "      <td>27638400</td>\n",
       "    </tr>\n",
       "    <tr>\n",
       "      <th>2024-12-19</th>\n",
       "      <td>189.484131</td>\n",
       "      <td>194.378564</td>\n",
       "      <td>189.304343</td>\n",
       "      <td>193.060059</td>\n",
       "      <td>26981200</td>\n",
       "    </tr>\n",
       "    <tr>\n",
       "      <th>2024-12-20</th>\n",
       "      <td>192.740417</td>\n",
       "      <td>193.914068</td>\n",
       "      <td>186.157905</td>\n",
       "      <td>186.797176</td>\n",
       "      <td>45319700</td>\n",
       "    </tr>\n",
       "  </tbody>\n",
       "</table>\n",
       "<p>2762 rows × 5 columns</p>\n",
       "</div>"
      ],
      "text/plain": [
       "Price            Close        High         Low        Open     Volume\n",
       "Ticker            GOOG        GOOG        GOOG        GOOG       GOOG\n",
       "Date                                                                 \n",
       "2014-01-02   27.593388   27.708162   27.472912   27.651396   73129082\n",
       "2014-01-03   27.392099   27.687835   27.390364   27.639993   66917888\n",
       "2014-01-06   27.697504   27.735678   27.427797   27.590663   71037271\n",
       "2014-01-07   28.231462   28.252039   27.792695   27.887885  102486711\n",
       "2014-01-08   28.290215   28.441181   28.093387   28.408459   90036218\n",
       "...                ...         ...         ...         ...        ...\n",
       "2024-12-16  197.934509  200.411683  193.889115  194.143830   32248600\n",
       "2024-12-17  196.895676  202.649131  196.466172  198.304075   24129500\n",
       "2024-12-18  189.933609  198.463899  189.064604  196.606015   27638400\n",
       "2024-12-19  189.484131  194.378564  189.304343  193.060059   26981200\n",
       "2024-12-20  192.740417  193.914068  186.157905  186.797176   45319700\n",
       "\n",
       "[2762 rows x 5 columns]"
      ]
     },
     "execution_count": 37,
     "metadata": {},
     "output_type": "execute_result"
    }
   ],
   "source": [
    "# Convert the data into a pandas DataFrame\n",
    "df = pd.DataFrame(data)\n",
    "df"
   ]
  },
  {
   "cell_type": "code",
   "execution_count": 38,
   "metadata": {},
   "outputs": [
    {
     "name": "stdout",
     "output_type": "stream",
     "text": [
      "MultiIndex([( 'Close', 'GOOG'),\n",
      "            (  'High', 'GOOG'),\n",
      "            (   'Low', 'GOOG'),\n",
      "            (  'Open', 'GOOG'),\n",
      "            ('Volume', 'GOOG')],\n",
      "           names=['Price', 'Ticker'])\n"
     ]
    }
   ],
   "source": [
    "print(df.columns)"
   ]
  },
  {
   "cell_type": "code",
   "execution_count": 39,
   "metadata": {},
   "outputs": [
    {
     "data": {
      "application/vnd.microsoft.datawrangler.viewer.v0+json": {
       "columns": [
        {
         "name": "Date",
         "rawType": "datetime64[ns]",
         "type": "datetime"
        },
        {
         "name": "Close",
         "rawType": "float64",
         "type": "float"
        },
        {
         "name": "High",
         "rawType": "float64",
         "type": "float"
        },
        {
         "name": "Low",
         "rawType": "float64",
         "type": "float"
        },
        {
         "name": "Open",
         "rawType": "float64",
         "type": "float"
        },
        {
         "name": "Volume",
         "rawType": "int64",
         "type": "integer"
        }
       ],
       "conversionMethod": "pd.DataFrame",
       "ref": "f959d477-bb6c-4b90-871f-981f6032577c",
       "rows": [
        [
         "2014-01-02 00:00:00",
         "27.593387603759766",
         "27.70816227493666",
         "27.472912166166328",
         "27.65139570212484",
         "73129082"
        ],
        [
         "2014-01-03 00:00:00",
         "27.392099380493164",
         "27.687834946651254",
         "27.390364282072465",
         "27.639992550154055",
         "66917888"
        ],
        [
         "2014-01-06 00:00:00",
         "27.6975040435791",
         "27.73567810824464",
         "27.427796844648675",
         "27.590662602759505",
         "71037271"
        ],
        [
         "2014-01-07 00:00:00",
         "28.231462478637695",
         "28.252038772121956",
         "27.792695183405893",
         "27.887884507530014",
         "102486711"
        ],
        [
         "2014-01-08 00:00:00",
         "28.29021453857422",
         "28.4411813923405",
         "28.09338717234914",
         "28.408459409839786",
         "90036218"
        ]
       ],
       "shape": {
        "columns": 5,
        "rows": 5
       }
      },
      "text/html": [
       "<div>\n",
       "<style scoped>\n",
       "    .dataframe tbody tr th:only-of-type {\n",
       "        vertical-align: middle;\n",
       "    }\n",
       "\n",
       "    .dataframe tbody tr th {\n",
       "        vertical-align: top;\n",
       "    }\n",
       "\n",
       "    .dataframe thead th {\n",
       "        text-align: right;\n",
       "    }\n",
       "</style>\n",
       "<table border=\"1\" class=\"dataframe\">\n",
       "  <thead>\n",
       "    <tr style=\"text-align: right;\">\n",
       "      <th></th>\n",
       "      <th>Close</th>\n",
       "      <th>High</th>\n",
       "      <th>Low</th>\n",
       "      <th>Open</th>\n",
       "      <th>Volume</th>\n",
       "    </tr>\n",
       "    <tr>\n",
       "      <th>Date</th>\n",
       "      <th></th>\n",
       "      <th></th>\n",
       "      <th></th>\n",
       "      <th></th>\n",
       "      <th></th>\n",
       "    </tr>\n",
       "  </thead>\n",
       "  <tbody>\n",
       "    <tr>\n",
       "      <th>2014-01-02</th>\n",
       "      <td>27.593388</td>\n",
       "      <td>27.708162</td>\n",
       "      <td>27.472912</td>\n",
       "      <td>27.651396</td>\n",
       "      <td>73129082</td>\n",
       "    </tr>\n",
       "    <tr>\n",
       "      <th>2014-01-03</th>\n",
       "      <td>27.392099</td>\n",
       "      <td>27.687835</td>\n",
       "      <td>27.390364</td>\n",
       "      <td>27.639993</td>\n",
       "      <td>66917888</td>\n",
       "    </tr>\n",
       "    <tr>\n",
       "      <th>2014-01-06</th>\n",
       "      <td>27.697504</td>\n",
       "      <td>27.735678</td>\n",
       "      <td>27.427797</td>\n",
       "      <td>27.590663</td>\n",
       "      <td>71037271</td>\n",
       "    </tr>\n",
       "    <tr>\n",
       "      <th>2014-01-07</th>\n",
       "      <td>28.231462</td>\n",
       "      <td>28.252039</td>\n",
       "      <td>27.792695</td>\n",
       "      <td>27.887885</td>\n",
       "      <td>102486711</td>\n",
       "    </tr>\n",
       "    <tr>\n",
       "      <th>2014-01-08</th>\n",
       "      <td>28.290215</td>\n",
       "      <td>28.441181</td>\n",
       "      <td>28.093387</td>\n",
       "      <td>28.408459</td>\n",
       "      <td>90036218</td>\n",
       "    </tr>\n",
       "  </tbody>\n",
       "</table>\n",
       "</div>"
      ],
      "text/plain": [
       "                Close       High        Low       Open     Volume\n",
       "Date                                                             \n",
       "2014-01-02  27.593388  27.708162  27.472912  27.651396   73129082\n",
       "2014-01-03  27.392099  27.687835  27.390364  27.639993   66917888\n",
       "2014-01-06  27.697504  27.735678  27.427797  27.590663   71037271\n",
       "2014-01-07  28.231462  28.252039  27.792695  27.887885  102486711\n",
       "2014-01-08  28.290215  28.441181  28.093387  28.408459   90036218"
      ]
     },
     "execution_count": 39,
     "metadata": {},
     "output_type": "execute_result"
    }
   ],
   "source": [
    "df.columns = ['Close', 'High', 'Low', 'Open', 'Volume']\n",
    "df.head()"
   ]
  },
  {
   "cell_type": "code",
   "execution_count": 40,
   "metadata": {},
   "outputs": [],
   "source": [
    "df.dropna(inplace=True)"
   ]
  },
  {
   "cell_type": "code",
   "execution_count": 41,
   "metadata": {},
   "outputs": [],
   "source": [
    "df_train = pd.DataFrame(df.Close[:int(len(df)* 0.80)])\n",
    "df_test = pd.DataFrame(df.Close[int(len(df)* 0.80): len(df)])"
   ]
  },
  {
   "cell_type": "code",
   "execution_count": 42,
   "metadata": {},
   "outputs": [
    {
     "data": {
      "text/plain": [
       "2209"
      ]
     },
     "execution_count": 42,
     "metadata": {},
     "output_type": "execute_result"
    }
   ],
   "source": [
    "df_train.shape[0]"
   ]
  },
  {
   "cell_type": "code",
   "execution_count": 43,
   "metadata": {},
   "outputs": [
    {
     "data": {
      "text/plain": [
       "553"
      ]
     },
     "execution_count": 43,
     "metadata": {},
     "output_type": "execute_result"
    }
   ],
   "source": [
    "df_test.shape[0]"
   ]
  },
  {
   "cell_type": "code",
   "execution_count": 44,
   "metadata": {},
   "outputs": [],
   "source": [
    "from sklearn.preprocessing import MinMaxScaler\n",
    "scaler = MinMaxScaler(feature_range= (0, 1))"
   ]
  },
  {
   "cell_type": "code",
   "execution_count": 45,
   "metadata": {},
   "outputs": [],
   "source": [
    "df_train_scale = scaler.fit_transform(df_train)"
   ]
  },
  {
   "cell_type": "code",
   "execution_count": 46,
   "metadata": {},
   "outputs": [],
   "source": [
    "x = []\n",
    "y = []\n",
    "\n",
    "for i in range(100, df_train_scale.shape[0]):\n",
    "    x.append(df_train_scale[i-100:i])\n",
    "    y.append(df_train_scale[i,0])"
   ]
  },
  {
   "cell_type": "code",
   "execution_count": 58,
   "metadata": {},
   "outputs": [],
   "source": [
    "x, y = np.array(x), np.array(y)"
   ]
  },
  {
   "cell_type": "code",
   "execution_count": 59,
   "metadata": {},
   "outputs": [],
   "source": [
    "from keras.layers import Dense, Dropout, LSTM\n",
    "from keras.models import Sequential"
   ]
  },
  {
   "cell_type": "code",
   "execution_count": 62,
   "metadata": {},
   "outputs": [
    {
     "ename": "IndexError",
     "evalue": "tuple index out of range",
     "output_type": "error",
     "traceback": [
      "\u001b[0;31m---------------------------------------------------------------------------\u001b[0m",
      "\u001b[0;31mIndexError\u001b[0m                                Traceback (most recent call last)",
      "Cell \u001b[0;32mIn[62], line 2\u001b[0m\n\u001b[1;32m      1\u001b[0m model \u001b[38;5;241m=\u001b[39m Sequential()\n\u001b[0;32m----> 2\u001b[0m model\u001b[38;5;241m.\u001b[39madd(LSTM(units\u001b[38;5;241m=\u001b[39m\u001b[38;5;241m50\u001b[39m, activation\u001b[38;5;241m=\u001b[39m \u001b[38;5;124m'\u001b[39m\u001b[38;5;124mrelu\u001b[39m\u001b[38;5;124m'\u001b[39m, return_sequences\u001b[38;5;241m=\u001b[39m\u001b[38;5;28;01mTrue\u001b[39;00m, input_shape\u001b[38;5;241m=\u001b[39m((x\u001b[38;5;241m.\u001b[39mshape[\u001b[38;5;241m1\u001b[39m], \u001b[38;5;241m1\u001b[39m))))\n\u001b[1;32m      4\u001b[0m model\u001b[38;5;241m.\u001b[39madd(Dropout(\u001b[38;5;241m0.2\u001b[39m))\n\u001b[1;32m      6\u001b[0m model\u001b[38;5;241m.\u001b[39madd(LSTM(units\u001b[38;5;241m=\u001b[39m\u001b[38;5;241m60\u001b[39m), activation\u001b[38;5;241m=\u001b[39m \u001b[38;5;124m'\u001b[39m\u001b[38;5;124mrelu\u001b[39m\u001b[38;5;124m'\u001b[39m, return_sequences\u001b[38;5;241m=\u001b[39m\u001b[38;5;28;01mTrue\u001b[39;00m)\n",
      "\u001b[0;31mIndexError\u001b[0m: tuple index out of range"
     ]
    }
   ],
   "source": [
    "model = Sequential()\n",
    "model.add(LSTM(units=50, activation= 'relu', return_sequences=True, input_shape=((x.shape[1], 1))))\n",
    "\n",
    "model.add(Dropout(0.2))\n",
    "\n",
    "model.add(LSTM(units=60), activation= 'relu', return_sequences=True)\n",
    "model.add(Dropout(0.3))\n",
    "\n",
    "model.add(LSTM(units=80, activation='relu', return_sequences=True))\n",
    "model.add(Dropout(0.4))\n",
    "\n",
    "model.add(LSTM(units=120, activation='relu'))\n",
    "model.add(Dropout(0.5))\n",
    "\n",
    "model.add(Dense(units=1))"
   ]
  },
  {
   "cell_type": "code",
   "execution_count": null,
   "metadata": {},
   "outputs": [],
   "source": []
  },
  {
   "cell_type": "code",
   "execution_count": null,
   "metadata": {},
   "outputs": [],
   "source": []
  }
 ],
 "metadata": {
  "kernelspec": {
   "display_name": "base",
   "language": "python",
   "name": "python3"
  },
  "language_info": {
   "codemirror_mode": {
    "name": "ipython",
    "version": 3
   },
   "file_extension": ".py",
   "mimetype": "text/x-python",
   "name": "python",
   "nbconvert_exporter": "python",
   "pygments_lexer": "ipython3",
   "version": "3.12.7"
  }
 },
 "nbformat": 4,
 "nbformat_minor": 2
}
